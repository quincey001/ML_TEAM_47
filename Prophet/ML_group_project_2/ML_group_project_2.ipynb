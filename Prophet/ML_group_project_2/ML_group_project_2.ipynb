{
 "cells": [
  {
   "cell_type": "code",
   "execution_count": 29,
   "metadata": {
    "executionInfo": {
     "elapsed": 608,
     "status": "ok",
     "timestamp": 1637934756219,
     "user": {
      "displayName": "Tapabrata Mukhopadhyay",
      "photoUrl": "https://lh3.googleusercontent.com/a-/AOh14GhZimCq87-wv4zq-6To7Xnn_Iv7epMjArkGSsyu=s64",
      "userId": "10787340416214308199"
     },
     "user_tz": 0
    },
    "id": "eeJFrMRUYM29"
   },
   "outputs": [],
   "source": [
    "import numpy as np\n",
    "import pandas as pd\n",
    "import matplotlib.pyplot as plt"
   ]
  },
  {
   "cell_type": "code",
   "execution_count": 30,
   "metadata": {
    "colab": {
     "base_uri": "https://localhost:8080/",
     "height": 206
    },
    "executionInfo": {
     "elapsed": 346,
     "status": "ok",
     "timestamp": 1637934756563,
     "user": {
      "displayName": "Tapabrata Mukhopadhyay",
      "photoUrl": "https://lh3.googleusercontent.com/a-/AOh14GhZimCq87-wv4zq-6To7Xnn_Iv7epMjArkGSsyu=s64",
      "userId": "10787340416214308199"
     },
     "user_tz": 0
    },
    "id": "2_7dHGzWZS-v",
    "outputId": "84629405-649d-4fd2-8ebe-b96d58edd3fc"
   },
   "outputs": [
    {
     "data": {
      "text/html": [
       "<div>\n",
       "<style scoped>\n",
       "    .dataframe tbody tr th:only-of-type {\n",
       "        vertical-align: middle;\n",
       "    }\n",
       "\n",
       "    .dataframe tbody tr th {\n",
       "        vertical-align: top;\n",
       "    }\n",
       "\n",
       "    .dataframe thead th {\n",
       "        text-align: right;\n",
       "    }\n",
       "</style>\n",
       "<table border=\"1\" class=\"dataframe\">\n",
       "  <thead>\n",
       "    <tr style=\"text-align: right;\">\n",
       "      <th></th>\n",
       "      <th>date</th>\n",
       "      <th>bsc</th>\n",
       "    </tr>\n",
       "  </thead>\n",
       "  <tbody>\n",
       "    <tr>\n",
       "      <th>0</th>\n",
       "      <td>01/10/2018</td>\n",
       "      <td>15</td>\n",
       "    </tr>\n",
       "    <tr>\n",
       "      <th>1</th>\n",
       "      <td>01/10/2018</td>\n",
       "      <td>33</td>\n",
       "    </tr>\n",
       "    <tr>\n",
       "      <th>2</th>\n",
       "      <td>01/10/2018</td>\n",
       "      <td>11</td>\n",
       "    </tr>\n",
       "    <tr>\n",
       "      <th>3</th>\n",
       "      <td>01/10/2018</td>\n",
       "      <td>32</td>\n",
       "    </tr>\n",
       "    <tr>\n",
       "      <th>4</th>\n",
       "      <td>01/10/2018</td>\n",
       "      <td>07</td>\n",
       "    </tr>\n",
       "  </tbody>\n",
       "</table>\n",
       "</div>"
      ],
      "text/plain": [
       "         date bsc\n",
       "0  01/10/2018  15\n",
       "1  01/10/2018  33\n",
       "2  01/10/2018  11\n",
       "3  01/10/2018  32\n",
       "4  01/10/2018  07"
      ]
     },
     "execution_count": 30,
     "metadata": {},
     "output_type": "execute_result"
    }
   ],
   "source": [
    "df = pd.read_csv(\"Shut in lifts incidents attended by LFB in last 36 months (1).csv\", encoding= 'unicode_escape')\n",
    "\n",
    "# dropping all columns except DateTimeOfCall and BoroughCode\n",
    "df = df[['DateTimeOfCall', 'BoroughCode']]\n",
    "\n",
    "# extracting date from DateTimeOfCall\n",
    "import re\n",
    "\n",
    "incident_date = []\n",
    "date_pattern = r'(\\d{2}/\\d{2}/\\d{4}) (\\d{2}):(\\d{2})'\n",
    "\n",
    "for t in df['DateTimeOfCall']:\n",
    "    match = re.match(date_pattern, t)\n",
    "    if(match):\n",
    "        incident_date.append(match.group(1))\n",
    "        \n",
    "df['date'] = incident_date\n",
    "\n",
    "# extracting borough short code from BoroughCode\n",
    "df['bsc'] = [item[-2:] for item in df['BoroughCode']]\n",
    "df.drop(['DateTimeOfCall', 'BoroughCode'], axis = 1, inplace = True)\n",
    "df.head()"
   ]
  },
  {
   "cell_type": "code",
   "execution_count": 31,
   "metadata": {
    "executionInfo": {
     "elapsed": 123669,
     "status": "ok",
     "timestamp": 1637934882227,
     "user": {
      "displayName": "Tapabrata Mukhopadhyay",
      "photoUrl": "https://lh3.googleusercontent.com/a-/AOh14GhZimCq87-wv4zq-6To7Xnn_Iv7epMjArkGSsyu=s64",
      "userId": "10787340416214308199"
     },
     "user_tz": 0
    },
    "id": "C2OdKEgmZUpy"
   },
   "outputs": [],
   "source": [
    "X1_idx = 0; X2_idx = 1; y_idx = 2\n",
    "\n",
    "data_dict = {}\n",
    "\n",
    "for i in df['bsc']:\n",
    "    for j in df['date']:\n",
    "        key = i + ',' + j\n",
    "        data_dict[key] = [i, j, 0]\n",
    "\n",
    "for idx in range(len(df['bsc'])):\n",
    "    key = df.loc[idx, 'bsc'] + ',' + df.loc[idx, 'date']\n",
    "    \n",
    "    if key in data_dict.keys():\n",
    "        data_dict[key][y_idx] += 1\n",
    "    else:\n",
    "        print(\"Error: The key \" + key + \" does not exist in the dictionary. Count aborted!\")\n",
    "        break"
   ]
  },
  {
   "cell_type": "code",
   "execution_count": 49,
   "metadata": {
    "colab": {
     "base_uri": "https://localhost:8080/",
     "height": 206
    },
    "executionInfo": {
     "elapsed": 223,
     "status": "ok",
     "timestamp": 1637935198911,
     "user": {
      "displayName": "Tapabrata Mukhopadhyay",
      "photoUrl": "https://lh3.googleusercontent.com/a-/AOh14GhZimCq87-wv4zq-6To7Xnn_Iv7epMjArkGSsyu=s64",
      "userId": "10787340416214308199"
     },
     "user_tz": 0
    },
    "id": "lu9SBVe7hOAT",
    "outputId": "09843014-ece2-47b2-f011-d0a903e81a6a"
   },
   "outputs": [
    {
     "data": {
      "text/html": [
       "<div>\n",
       "<style scoped>\n",
       "    .dataframe tbody tr th:only-of-type {\n",
       "        vertical-align: middle;\n",
       "    }\n",
       "\n",
       "    .dataframe tbody tr th {\n",
       "        vertical-align: top;\n",
       "    }\n",
       "\n",
       "    .dataframe thead th {\n",
       "        text-align: right;\n",
       "    }\n",
       "</style>\n",
       "<table border=\"1\" class=\"dataframe\">\n",
       "  <thead>\n",
       "    <tr style=\"text-align: right;\">\n",
       "      <th></th>\n",
       "      <th>bsc</th>\n",
       "      <th>date</th>\n",
       "      <th>count</th>\n",
       "    </tr>\n",
       "  </thead>\n",
       "  <tbody>\n",
       "    <tr>\n",
       "      <th>0</th>\n",
       "      <td>15</td>\n",
       "      <td>2018-01-10</td>\n",
       "      <td>2</td>\n",
       "    </tr>\n",
       "    <tr>\n",
       "      <th>1</th>\n",
       "      <td>15</td>\n",
       "      <td>2018-02-10</td>\n",
       "      <td>0</td>\n",
       "    </tr>\n",
       "    <tr>\n",
       "      <th>2</th>\n",
       "      <td>15</td>\n",
       "      <td>2018-03-10</td>\n",
       "      <td>1</td>\n",
       "    </tr>\n",
       "    <tr>\n",
       "      <th>3</th>\n",
       "      <td>15</td>\n",
       "      <td>2018-04-10</td>\n",
       "      <td>0</td>\n",
       "    </tr>\n",
       "    <tr>\n",
       "      <th>4</th>\n",
       "      <td>15</td>\n",
       "      <td>2018-05-10</td>\n",
       "      <td>1</td>\n",
       "    </tr>\n",
       "  </tbody>\n",
       "</table>\n",
       "</div>"
      ],
      "text/plain": [
       "   bsc       date  count\n",
       "0   15 2018-01-10      2\n",
       "1   15 2018-02-10      0\n",
       "2   15 2018-03-10      1\n",
       "3   15 2018-04-10      0\n",
       "4   15 2018-05-10      1"
      ]
     },
     "execution_count": 49,
     "metadata": {},
     "output_type": "execute_result"
    }
   ],
   "source": [
    "del df\n",
    "df = pd.DataFrame()\n",
    "df['bsc'] = np.array([data_dict[idx][X1_idx] for idx in data_dict.keys()])\n",
    "df['date'] = np.array([data_dict[idx][X2_idx] for idx in data_dict.keys()])\n",
    "df['count'] = np.array([data_dict[idx][y_idx] for idx in data_dict.keys()])\n",
    "\n",
    "df['date'] = pd.to_datetime(df['date'])\n",
    "df['bsc'] = pd.to_numeric(df['bsc'])\n",
    "df.head()"
   ]
  },
  {
   "cell_type": "code",
   "execution_count": 50,
   "metadata": {
    "colab": {
     "base_uri": "https://localhost:8080/",
     "height": 206
    },
    "executionInfo": {
     "elapsed": 325,
     "status": "ok",
     "timestamp": 1637935206220,
     "user": {
      "displayName": "Tapabrata Mukhopadhyay",
      "photoUrl": "https://lh3.googleusercontent.com/a-/AOh14GhZimCq87-wv4zq-6To7Xnn_Iv7epMjArkGSsyu=s64",
      "userId": "10787340416214308199"
     },
     "user_tz": 0
    },
    "id": "9dB1L4bqdw5d",
    "outputId": "3ce52f63-d102-42af-c561-897dda2a116c"
   },
   "outputs": [
    {
     "data": {
      "text/html": [
       "<div>\n",
       "<style scoped>\n",
       "    .dataframe tbody tr th:only-of-type {\n",
       "        vertical-align: middle;\n",
       "    }\n",
       "\n",
       "    .dataframe tbody tr th {\n",
       "        vertical-align: top;\n",
       "    }\n",
       "\n",
       "    .dataframe thead th {\n",
       "        text-align: right;\n",
       "    }\n",
       "</style>\n",
       "<table border=\"1\" class=\"dataframe\">\n",
       "  <thead>\n",
       "    <tr style=\"text-align: right;\">\n",
       "      <th></th>\n",
       "      <th>bsc</th>\n",
       "      <th>date</th>\n",
       "      <th>count</th>\n",
       "    </tr>\n",
       "  </thead>\n",
       "  <tbody>\n",
       "    <tr>\n",
       "      <th>5480</th>\n",
       "      <td>1</td>\n",
       "      <td>2018-01-10</td>\n",
       "      <td>1</td>\n",
       "    </tr>\n",
       "    <tr>\n",
       "      <th>5481</th>\n",
       "      <td>1</td>\n",
       "      <td>2018-02-10</td>\n",
       "      <td>0</td>\n",
       "    </tr>\n",
       "    <tr>\n",
       "      <th>5482</th>\n",
       "      <td>1</td>\n",
       "      <td>2018-03-10</td>\n",
       "      <td>0</td>\n",
       "    </tr>\n",
       "    <tr>\n",
       "      <th>5483</th>\n",
       "      <td>1</td>\n",
       "      <td>2018-04-10</td>\n",
       "      <td>0</td>\n",
       "    </tr>\n",
       "    <tr>\n",
       "      <th>5484</th>\n",
       "      <td>1</td>\n",
       "      <td>2018-05-10</td>\n",
       "      <td>2</td>\n",
       "    </tr>\n",
       "  </tbody>\n",
       "</table>\n",
       "</div>"
      ],
      "text/plain": [
       "      bsc       date  count\n",
       "5480    1 2018-01-10      1\n",
       "5481    1 2018-02-10      0\n",
       "5482    1 2018-03-10      0\n",
       "5483    1 2018-04-10      0\n",
       "5484    1 2018-05-10      2"
      ]
     },
     "execution_count": 50,
     "metadata": {},
     "output_type": "execute_result"
    }
   ],
   "source": [
    "df_b1 = pd.DataFrame()\n",
    "df_b1 = df.loc[df['bsc'] == 1]\n",
    "df_b1.head()"
   ]
  },
  {
   "cell_type": "code",
   "execution_count": 51,
   "metadata": {
    "colab": {
     "base_uri": "https://localhost:8080/",
     "height": 277
    },
    "executionInfo": {
     "elapsed": 424,
     "status": "ok",
     "timestamp": 1637935208385,
     "user": {
      "displayName": "Tapabrata Mukhopadhyay",
      "photoUrl": "https://lh3.googleusercontent.com/a-/AOh14GhZimCq87-wv4zq-6To7Xnn_Iv7epMjArkGSsyu=s64",
      "userId": "10787340416214308199"
     },
     "user_tz": 0
    },
    "id": "IANjJXr9eTJB",
    "outputId": "03313c86-e480-463e-d73e-8e99fc006764"
   },
   "outputs": [
    {
     "data": {
      "image/png": "[encoded data removed]",
      "text/plain": [
       "<Figure size 432x288 with 1 Axes>"
      ]
     },
     "metadata": {
      "needs_background": "light"
     },
     "output_type": "display_data"
    }
   ],
   "source": [
    "df_b1.plot ( x ='date', y = 'count', kind = 'line', colormap = 'cividis')\n",
    "plt.show()"
   ]
  },
  {
   "cell_type": "code",
   "execution_count": 52,
   "metadata": {
    "colab": {
     "base_uri": "https://localhost:8080/",
     "height": 265
    },
    "executionInfo": {
     "elapsed": 234,
     "status": "ok",
     "timestamp": 1637935212056,
     "user": {
      "displayName": "Tapabrata Mukhopadhyay",
      "photoUrl": "https://lh3.googleusercontent.com/a-/AOh14GhZimCq87-wv4zq-6To7Xnn_Iv7epMjArkGSsyu=s64",
      "userId": "10787340416214308199"
     },
     "user_tz": 0
    },
    "id": "N-zMQA6HeXZN",
    "outputId": "1f1188fb-4e31-4a7c-f571-cd74ff6cd254"
   },
   "outputs": [
    {
     "data": {
      "image/png": "[encoded data removed]",
      "text/plain": [
       "<Figure size 432x288 with 1 Axes>"
      ]
     },
     "metadata": {
      "needs_background": "light"
     },
     "output_type": "display_data"
    }
   ],
   "source": [
    "df_b1.plot ( x ='date', y = 'count', kind = 'hist' )\n",
    "plt.show()"
   ]
  },
  {
   "cell_type": "code",
   "execution_count": 53,
   "metadata": {
    "colab": {
     "base_uri": "https://localhost:8080/",
     "height": 327
    },
    "executionInfo": {
     "elapsed": 223,
     "status": "ok",
     "timestamp": 1637935225362,
     "user": {
      "displayName": "Tapabrata Mukhopadhyay",
      "photoUrl": "https://lh3.googleusercontent.com/a-/AOh14GhZimCq87-wv4zq-6To7Xnn_Iv7epMjArkGSsyu=s64",
      "userId": "10787340416214308199"
     },
     "user_tz": 0
    },
    "id": "M8zdfNlyeZpV",
    "outputId": "701e01a6-c4dd-4590-95a4-f3dd540929c0"
   },
   "outputs": [
    {
     "name": "stderr",
     "output_type": "stream",
     "text": [
      "/usr/local/lib/python3.7/dist-packages/pandas/core/frame.py:4174: SettingWithCopyWarning:\n",
      "\n",
      "\n",
      "A value is trying to be set on a copy of a slice from a DataFrame\n",
      "\n",
      "See the caveats in the documentation: https://pandas.pydata.org/pandas-docs/stable/user_guide/indexing.html#returning-a-view-versus-a-copy\n",
      "\n"
     ]
    },
    {
     "data": {
      "text/html": [
       "<div>\n",
       "<style scoped>\n",
       "    .dataframe tbody tr th:only-of-type {\n",
       "        vertical-align: middle;\n",
       "    }\n",
       "\n",
       "    .dataframe tbody tr th {\n",
       "        vertical-align: top;\n",
       "    }\n",
       "\n",
       "    .dataframe thead th {\n",
       "        text-align: right;\n",
       "    }\n",
       "</style>\n",
       "<table border=\"1\" class=\"dataframe\">\n",
       "  <thead>\n",
       "    <tr style=\"text-align: right;\">\n",
       "      <th></th>\n",
       "      <th>ds</th>\n",
       "      <th>y</th>\n",
       "    </tr>\n",
       "  </thead>\n",
       "  <tbody>\n",
       "    <tr>\n",
       "      <th>5480</th>\n",
       "      <td>2018-01-10</td>\n",
       "      <td>1</td>\n",
       "    </tr>\n",
       "    <tr>\n",
       "      <th>5481</th>\n",
       "      <td>2018-02-10</td>\n",
       "      <td>0</td>\n",
       "    </tr>\n",
       "    <tr>\n",
       "      <th>5482</th>\n",
       "      <td>2018-03-10</td>\n",
       "      <td>0</td>\n",
       "    </tr>\n",
       "    <tr>\n",
       "      <th>5483</th>\n",
       "      <td>2018-04-10</td>\n",
       "      <td>0</td>\n",
       "    </tr>\n",
       "    <tr>\n",
       "      <th>5484</th>\n",
       "      <td>2018-05-10</td>\n",
       "      <td>2</td>\n",
       "    </tr>\n",
       "  </tbody>\n",
       "</table>\n",
       "</div>"
      ],
      "text/plain": [
       "             ds  y\n",
       "5480 2018-01-10  1\n",
       "5481 2018-02-10  0\n",
       "5482 2018-03-10  0\n",
       "5483 2018-04-10  0\n",
       "5484 2018-05-10  2"
      ]
     },
     "execution_count": 53,
     "metadata": {},
     "output_type": "execute_result"
    }
   ],
   "source": [
    "df_b1.drop(['bsc'], axis = 1, inplace = True)\n",
    "df_b1.columns = ['ds','y']\n",
    "df_b1.head()"
   ]
  },
  {
   "cell_type": "code",
   "execution_count": 84,
   "metadata": {
    "executionInfo": {
     "elapsed": 516,
     "status": "ok",
     "timestamp": 1637936159144,
     "user": {
      "displayName": "Tapabrata Mukhopadhyay",
      "photoUrl": "https://lh3.googleusercontent.com/a-/AOh14GhZimCq87-wv4zq-6To7Xnn_Iv7epMjArkGSsyu=s64",
      "userId": "10787340416214308199"
     },
     "user_tz": 0
    },
    "id": "6OIJu8pIefMk"
   },
   "outputs": [],
   "source": [
    "from prophet import Prophet\n",
    "\n",
    "m = Prophet(interval_width = 0.95, daily_seasonality = True)\n",
    "model_b1 = m.fit(df_b1)"
   ]
  },
  {
   "cell_type": "code",
   "execution_count": 85,
   "metadata": {
    "colab": {
     "base_uri": "https://localhost:8080/",
     "height": 313
    },
    "executionInfo": {
     "elapsed": 3387,
     "status": "ok",
     "timestamp": 1637936162530,
     "user": {
      "displayName": "Tapabrata Mukhopadhyay",
      "photoUrl": "https://lh3.googleusercontent.com/a-/AOh14GhZimCq87-wv4zq-6To7Xnn_Iv7epMjArkGSsyu=s64",
      "userId": "10787340416214308199"
     },
     "user_tz": 0
    },
    "id": "jJ3Sww6Qjbmy",
    "outputId": "d57d9e70-ae40-4eb9-afed-3f008f374ac2"
   },
   "outputs": [
    {
     "data": {
      "text/html": [
       "<div>\n",
       "<style scoped>\n",
       "    .dataframe tbody tr th:only-of-type {\n",
       "        vertical-align: middle;\n",
       "    }\n",
       "\n",
       "    .dataframe tbody tr th {\n",
       "        vertical-align: top;\n",
       "    }\n",
       "\n",
       "    .dataframe thead th {\n",
       "        text-align: right;\n",
       "    }\n",
       "</style>\n",
       "<table border=\"1\" class=\"dataframe\">\n",
       "  <thead>\n",
       "    <tr style=\"text-align: right;\">\n",
       "      <th></th>\n",
       "      <th>ds</th>\n",
       "      <th>trend</th>\n",
       "      <th>yhat_lower</th>\n",
       "      <th>yhat_upper</th>\n",
       "      <th>trend_lower</th>\n",
       "      <th>trend_upper</th>\n",
       "      <th>additive_terms</th>\n",
       "      <th>additive_terms_lower</th>\n",
       "      <th>additive_terms_upper</th>\n",
       "      <th>daily</th>\n",
       "      <th>daily_lower</th>\n",
       "      <th>daily_upper</th>\n",
       "      <th>weekly</th>\n",
       "      <th>weekly_lower</th>\n",
       "      <th>weekly_upper</th>\n",
       "      <th>yearly</th>\n",
       "      <th>yearly_lower</th>\n",
       "      <th>yearly_upper</th>\n",
       "      <th>multiplicative_terms</th>\n",
       "      <th>multiplicative_terms_lower</th>\n",
       "      <th>multiplicative_terms_upper</th>\n",
       "      <th>yhat</th>\n",
       "    </tr>\n",
       "  </thead>\n",
       "  <tbody>\n",
       "    <tr>\n",
       "      <th>0</th>\n",
       "      <td>2018-01-10</td>\n",
       "      <td>0.851698</td>\n",
       "      <td>-0.467914</td>\n",
       "      <td>1.018030</td>\n",
       "      <td>0.851698</td>\n",
       "      <td>0.851698</td>\n",
       "      <td>-0.534595</td>\n",
       "      <td>-0.534595</td>\n",
       "      <td>-0.534595</td>\n",
       "      <td>-0.591359</td>\n",
       "      <td>-0.591359</td>\n",
       "      <td>-0.591359</td>\n",
       "      <td>0.003040</td>\n",
       "      <td>0.003040</td>\n",
       "      <td>0.003040</td>\n",
       "      <td>0.053725</td>\n",
       "      <td>0.053725</td>\n",
       "      <td>0.053725</td>\n",
       "      <td>0.0</td>\n",
       "      <td>0.0</td>\n",
       "      <td>0.0</td>\n",
       "      <td>0.317103</td>\n",
       "    </tr>\n",
       "    <tr>\n",
       "      <th>1</th>\n",
       "      <td>2018-01-11</td>\n",
       "      <td>0.851560</td>\n",
       "      <td>-0.346377</td>\n",
       "      <td>1.129821</td>\n",
       "      <td>0.851560</td>\n",
       "      <td>0.851560</td>\n",
       "      <td>-0.502571</td>\n",
       "      <td>-0.502571</td>\n",
       "      <td>-0.502571</td>\n",
       "      <td>-0.591359</td>\n",
       "      <td>-0.591359</td>\n",
       "      <td>-0.591359</td>\n",
       "      <td>0.031124</td>\n",
       "      <td>0.031124</td>\n",
       "      <td>0.031124</td>\n",
       "      <td>0.057664</td>\n",
       "      <td>0.057664</td>\n",
       "      <td>0.057664</td>\n",
       "      <td>0.0</td>\n",
       "      <td>0.0</td>\n",
       "      <td>0.0</td>\n",
       "      <td>0.348989</td>\n",
       "    </tr>\n",
       "    <tr>\n",
       "      <th>2</th>\n",
       "      <td>2018-01-12</td>\n",
       "      <td>0.851422</td>\n",
       "      <td>-0.443540</td>\n",
       "      <td>1.114220</td>\n",
       "      <td>0.851422</td>\n",
       "      <td>0.851422</td>\n",
       "      <td>-0.521477</td>\n",
       "      <td>-0.521477</td>\n",
       "      <td>-0.521477</td>\n",
       "      <td>-0.591359</td>\n",
       "      <td>-0.591359</td>\n",
       "      <td>-0.591359</td>\n",
       "      <td>0.009564</td>\n",
       "      <td>0.009564</td>\n",
       "      <td>0.009564</td>\n",
       "      <td>0.060318</td>\n",
       "      <td>0.060318</td>\n",
       "      <td>0.060318</td>\n",
       "      <td>0.0</td>\n",
       "      <td>0.0</td>\n",
       "      <td>0.0</td>\n",
       "      <td>0.329945</td>\n",
       "    </tr>\n",
       "    <tr>\n",
       "      <th>3</th>\n",
       "      <td>2018-02-10</td>\n",
       "      <td>0.847428</td>\n",
       "      <td>-0.564484</td>\n",
       "      <td>0.910517</td>\n",
       "      <td>0.847428</td>\n",
       "      <td>0.847428</td>\n",
       "      <td>-0.678491</td>\n",
       "      <td>-0.678491</td>\n",
       "      <td>-0.678491</td>\n",
       "      <td>-0.591359</td>\n",
       "      <td>-0.591359</td>\n",
       "      <td>-0.591359</td>\n",
       "      <td>-0.001051</td>\n",
       "      <td>-0.001051</td>\n",
       "      <td>-0.001051</td>\n",
       "      <td>-0.086081</td>\n",
       "      <td>-0.086081</td>\n",
       "      <td>-0.086081</td>\n",
       "      <td>0.0</td>\n",
       "      <td>0.0</td>\n",
       "      <td>0.0</td>\n",
       "      <td>0.168937</td>\n",
       "    </tr>\n",
       "    <tr>\n",
       "      <th>4</th>\n",
       "      <td>2018-02-11</td>\n",
       "      <td>0.847290</td>\n",
       "      <td>-0.578257</td>\n",
       "      <td>0.895890</td>\n",
       "      <td>0.847290</td>\n",
       "      <td>0.847290</td>\n",
       "      <td>-0.653168</td>\n",
       "      <td>-0.653168</td>\n",
       "      <td>-0.653168</td>\n",
       "      <td>-0.591359</td>\n",
       "      <td>-0.591359</td>\n",
       "      <td>-0.591359</td>\n",
       "      <td>0.024792</td>\n",
       "      <td>0.024792</td>\n",
       "      <td>0.024792</td>\n",
       "      <td>-0.086601</td>\n",
       "      <td>-0.086601</td>\n",
       "      <td>-0.086601</td>\n",
       "      <td>0.0</td>\n",
       "      <td>0.0</td>\n",
       "      <td>0.0</td>\n",
       "      <td>0.194122</td>\n",
       "    </tr>\n",
       "  </tbody>\n",
       "</table>\n",
       "</div>"
      ],
      "text/plain": [
       "          ds     trend  ...  multiplicative_terms_upper      yhat\n",
       "0 2018-01-10  0.851698  ...                         0.0  0.317103\n",
       "1 2018-01-11  0.851560  ...                         0.0  0.348989\n",
       "2 2018-01-12  0.851422  ...                         0.0  0.329945\n",
       "3 2018-02-10  0.847428  ...                         0.0  0.168937\n",
       "4 2018-02-11  0.847290  ...                         0.0  0.194122\n",
       "\n",
       "[5 rows x 22 columns]"
      ]
     },
     "execution_count": 85,
     "metadata": {},
     "output_type": "execute_result"
    }
   ],
   "source": [
    "future_b1 = m.make_future_dataframe(periods=90,freq='D')\n",
    "forecast_b1 = m.predict(future_b1)\n",
    "forecast_b1.head()"
   ]
  },
  {
   "cell_type": "code",
   "execution_count": 86,
   "metadata": {
    "colab": {
     "base_uri": "https://localhost:8080/",
     "height": 313
    },
    "executionInfo": {
     "elapsed": 218,
     "status": "ok",
     "timestamp": 1637936162744,
     "user": {
      "displayName": "Tapabrata Mukhopadhyay",
      "photoUrl": "https://lh3.googleusercontent.com/a-/AOh14GhZimCq87-wv4zq-6To7Xnn_Iv7epMjArkGSsyu=s64",
      "userId": "10787340416214308199"
     },
     "user_tz": 0
    },
    "id": "wyocKWt9lOsD",
    "outputId": "cf2c898a-4210-423d-9704-ad7177d94f31"
   },
   "outputs": [
    {
     "data": {
      "text/html": [
       "<div>\n",
       "<style scoped>\n",
       "    .dataframe tbody tr th:only-of-type {\n",
       "        vertical-align: middle;\n",
       "    }\n",
       "\n",
       "    .dataframe tbody tr th {\n",
       "        vertical-align: top;\n",
       "    }\n",
       "\n",
       "    .dataframe thead th {\n",
       "        text-align: right;\n",
       "    }\n",
       "</style>\n",
       "<table border=\"1\" class=\"dataframe\">\n",
       "  <thead>\n",
       "    <tr style=\"text-align: right;\">\n",
       "      <th></th>\n",
       "      <th>ds</th>\n",
       "      <th>trend</th>\n",
       "      <th>yhat_lower</th>\n",
       "      <th>yhat_upper</th>\n",
       "      <th>trend_lower</th>\n",
       "      <th>trend_upper</th>\n",
       "      <th>additive_terms</th>\n",
       "      <th>additive_terms_lower</th>\n",
       "      <th>additive_terms_upper</th>\n",
       "      <th>daily</th>\n",
       "      <th>daily_lower</th>\n",
       "      <th>daily_upper</th>\n",
       "      <th>weekly</th>\n",
       "      <th>weekly_lower</th>\n",
       "      <th>weekly_upper</th>\n",
       "      <th>yearly</th>\n",
       "      <th>yearly_lower</th>\n",
       "      <th>yearly_upper</th>\n",
       "      <th>multiplicative_terms</th>\n",
       "      <th>multiplicative_terms_lower</th>\n",
       "      <th>multiplicative_terms_upper</th>\n",
       "      <th>yhat</th>\n",
       "    </tr>\n",
       "  </thead>\n",
       "  <tbody>\n",
       "    <tr>\n",
       "      <th>1181</th>\n",
       "      <td>2022-03-05</td>\n",
       "      <td>0.660162</td>\n",
       "      <td>-0.787141</td>\n",
       "      <td>0.721325</td>\n",
       "      <td>0.659955</td>\n",
       "      <td>0.660392</td>\n",
       "      <td>-0.689695</td>\n",
       "      <td>-0.689695</td>\n",
       "      <td>-0.689695</td>\n",
       "      <td>-0.591359</td>\n",
       "      <td>-0.591359</td>\n",
       "      <td>-0.591359</td>\n",
       "      <td>-0.001051</td>\n",
       "      <td>-0.001051</td>\n",
       "      <td>-0.001051</td>\n",
       "      <td>-0.097285</td>\n",
       "      <td>-0.097285</td>\n",
       "      <td>-0.097285</td>\n",
       "      <td>0.0</td>\n",
       "      <td>0.0</td>\n",
       "      <td>0.0</td>\n",
       "      <td>-0.029533</td>\n",
       "    </tr>\n",
       "    <tr>\n",
       "      <th>1182</th>\n",
       "      <td>2022-03-06</td>\n",
       "      <td>0.660052</td>\n",
       "      <td>-0.748165</td>\n",
       "      <td>0.804679</td>\n",
       "      <td>0.659842</td>\n",
       "      <td>0.660285</td>\n",
       "      <td>-0.661293</td>\n",
       "      <td>-0.661293</td>\n",
       "      <td>-0.661293</td>\n",
       "      <td>-0.591359</td>\n",
       "      <td>-0.591359</td>\n",
       "      <td>-0.591359</td>\n",
       "      <td>0.024792</td>\n",
       "      <td>0.024792</td>\n",
       "      <td>0.024792</td>\n",
       "      <td>-0.094726</td>\n",
       "      <td>-0.094726</td>\n",
       "      <td>-0.094726</td>\n",
       "      <td>0.0</td>\n",
       "      <td>0.0</td>\n",
       "      <td>0.0</td>\n",
       "      <td>-0.001241</td>\n",
       "    </tr>\n",
       "    <tr>\n",
       "      <th>1183</th>\n",
       "      <td>2022-03-07</td>\n",
       "      <td>0.659942</td>\n",
       "      <td>-0.792682</td>\n",
       "      <td>0.641497</td>\n",
       "      <td>0.659727</td>\n",
       "      <td>0.660180</td>\n",
       "      <td>-0.724630</td>\n",
       "      <td>-0.724630</td>\n",
       "      <td>-0.724630</td>\n",
       "      <td>-0.591359</td>\n",
       "      <td>-0.591359</td>\n",
       "      <td>-0.591359</td>\n",
       "      <td>-0.041661</td>\n",
       "      <td>-0.041661</td>\n",
       "      <td>-0.041661</td>\n",
       "      <td>-0.091610</td>\n",
       "      <td>-0.091610</td>\n",
       "      <td>-0.091610</td>\n",
       "      <td>0.0</td>\n",
       "      <td>0.0</td>\n",
       "      <td>0.0</td>\n",
       "      <td>-0.064688</td>\n",
       "    </tr>\n",
       "    <tr>\n",
       "      <th>1184</th>\n",
       "      <td>2022-03-08</td>\n",
       "      <td>0.659832</td>\n",
       "      <td>-0.794123</td>\n",
       "      <td>0.705303</td>\n",
       "      <td>0.659613</td>\n",
       "      <td>0.660074</td>\n",
       "      <td>-0.705136</td>\n",
       "      <td>-0.705136</td>\n",
       "      <td>-0.705136</td>\n",
       "      <td>-0.591359</td>\n",
       "      <td>-0.591359</td>\n",
       "      <td>-0.591359</td>\n",
       "      <td>-0.025809</td>\n",
       "      <td>-0.025809</td>\n",
       "      <td>-0.025809</td>\n",
       "      <td>-0.087968</td>\n",
       "      <td>-0.087968</td>\n",
       "      <td>-0.087968</td>\n",
       "      <td>0.0</td>\n",
       "      <td>0.0</td>\n",
       "      <td>0.0</td>\n",
       "      <td>-0.045304</td>\n",
       "    </tr>\n",
       "    <tr>\n",
       "      <th>1185</th>\n",
       "      <td>2022-03-09</td>\n",
       "      <td>0.659722</td>\n",
       "      <td>-0.732204</td>\n",
       "      <td>0.736669</td>\n",
       "      <td>0.659499</td>\n",
       "      <td>0.659967</td>\n",
       "      <td>-0.672167</td>\n",
       "      <td>-0.672167</td>\n",
       "      <td>-0.672167</td>\n",
       "      <td>-0.591359</td>\n",
       "      <td>-0.591359</td>\n",
       "      <td>-0.591359</td>\n",
       "      <td>0.003040</td>\n",
       "      <td>0.003040</td>\n",
       "      <td>0.003040</td>\n",
       "      <td>-0.083847</td>\n",
       "      <td>-0.083847</td>\n",
       "      <td>-0.083847</td>\n",
       "      <td>0.0</td>\n",
       "      <td>0.0</td>\n",
       "      <td>0.0</td>\n",
       "      <td>-0.012444</td>\n",
       "    </tr>\n",
       "  </tbody>\n",
       "</table>\n",
       "</div>"
      ],
      "text/plain": [
       "             ds     trend  ...  multiplicative_terms_upper      yhat\n",
       "1181 2022-03-05  0.660162  ...                         0.0 -0.029533\n",
       "1182 2022-03-06  0.660052  ...                         0.0 -0.001241\n",
       "1183 2022-03-07  0.659942  ...                         0.0 -0.064688\n",
       "1184 2022-03-08  0.659832  ...                         0.0 -0.045304\n",
       "1185 2022-03-09  0.659722  ...                         0.0 -0.012444\n",
       "\n",
       "[5 rows x 22 columns]"
      ]
     },
     "execution_count": 86,
     "metadata": {},
     "output_type": "execute_result"
    }
   ],
   "source": [
    "forecast_b1.tail()"
   ]
  },
  {
   "cell_type": "code",
   "execution_count": 87,
   "metadata": {
    "colab": {
     "base_uri": "https://localhost:8080/",
     "height": 423
    },
    "executionInfo": {
     "elapsed": 4,
     "status": "ok",
     "timestamp": 1637936162745,
     "user": {
      "displayName": "Tapabrata Mukhopadhyay",
      "photoUrl": "https://lh3.googleusercontent.com/a-/AOh14GhZimCq87-wv4zq-6To7Xnn_Iv7epMjArkGSsyu=s64",
      "userId": "10787340416214308199"
     },
     "user_tz": 0
    },
    "id": "YWWSPvA7lo20",
    "outputId": "96e71de7-7014-43e9-d693-d3b1b9684363"
   },
   "outputs": [
    {
     "data": {
      "text/html": [
       "<div>\n",
       "<style scoped>\n",
       "    .dataframe tbody tr th:only-of-type {\n",
       "        vertical-align: middle;\n",
       "    }\n",
       "\n",
       "    .dataframe tbody tr th {\n",
       "        vertical-align: top;\n",
       "    }\n",
       "\n",
       "    .dataframe thead th {\n",
       "        text-align: right;\n",
       "    }\n",
       "</style>\n",
       "<table border=\"1\" class=\"dataframe\">\n",
       "  <thead>\n",
       "    <tr style=\"text-align: right;\">\n",
       "      <th></th>\n",
       "      <th>ds</th>\n",
       "      <th>yhat</th>\n",
       "    </tr>\n",
       "  </thead>\n",
       "  <tbody>\n",
       "    <tr>\n",
       "      <th>0</th>\n",
       "      <td>2018-01-10</td>\n",
       "      <td>0.317103</td>\n",
       "    </tr>\n",
       "    <tr>\n",
       "      <th>1</th>\n",
       "      <td>2018-01-11</td>\n",
       "      <td>0.348989</td>\n",
       "    </tr>\n",
       "    <tr>\n",
       "      <th>2</th>\n",
       "      <td>2018-01-12</td>\n",
       "      <td>0.329945</td>\n",
       "    </tr>\n",
       "    <tr>\n",
       "      <th>3</th>\n",
       "      <td>2018-02-10</td>\n",
       "      <td>0.168937</td>\n",
       "    </tr>\n",
       "    <tr>\n",
       "      <th>4</th>\n",
       "      <td>2018-02-11</td>\n",
       "      <td>0.194122</td>\n",
       "    </tr>\n",
       "    <tr>\n",
       "      <th>...</th>\n",
       "      <td>...</td>\n",
       "      <td>...</td>\n",
       "    </tr>\n",
       "    <tr>\n",
       "      <th>1181</th>\n",
       "      <td>2022-03-05</td>\n",
       "      <td>-0.029533</td>\n",
       "    </tr>\n",
       "    <tr>\n",
       "      <th>1182</th>\n",
       "      <td>2022-03-06</td>\n",
       "      <td>-0.001241</td>\n",
       "    </tr>\n",
       "    <tr>\n",
       "      <th>1183</th>\n",
       "      <td>2022-03-07</td>\n",
       "      <td>-0.064688</td>\n",
       "    </tr>\n",
       "    <tr>\n",
       "      <th>1184</th>\n",
       "      <td>2022-03-08</td>\n",
       "      <td>-0.045304</td>\n",
       "    </tr>\n",
       "    <tr>\n",
       "      <th>1185</th>\n",
       "      <td>2022-03-09</td>\n",
       "      <td>-0.012444</td>\n",
       "    </tr>\n",
       "  </tbody>\n",
       "</table>\n",
       "<p>1186 rows × 2 columns</p>\n",
       "</div>"
      ],
      "text/plain": [
       "             ds      yhat\n",
       "0    2018-01-10  0.317103\n",
       "1    2018-01-11  0.348989\n",
       "2    2018-01-12  0.329945\n",
       "3    2018-02-10  0.168937\n",
       "4    2018-02-11  0.194122\n",
       "...         ...       ...\n",
       "1181 2022-03-05 -0.029533\n",
       "1182 2022-03-06 -0.001241\n",
       "1183 2022-03-07 -0.064688\n",
       "1184 2022-03-08 -0.045304\n",
       "1185 2022-03-09 -0.012444\n",
       "\n",
       "[1186 rows x 2 columns]"
      ]
     },
     "execution_count": 87,
     "metadata": {},
     "output_type": "execute_result"
    }
   ],
   "source": [
    "forecast_b1[['ds','yhat']]"
   ]
  },
  {
   "cell_type": "code",
   "execution_count": 99,
   "metadata": {
    "colab": {
     "base_uri": "https://localhost:8080/",
     "height": 484
    },
    "executionInfo": {
     "elapsed": 660,
     "status": "ok",
     "timestamp": 1637937247225,
     "user": {
      "displayName": "Tapabrata Mukhopadhyay",
      "photoUrl": "https://lh3.googleusercontent.com/a-/AOh14GhZimCq87-wv4zq-6To7Xnn_Iv7epMjArkGSsyu=s64",
      "userId": "10787340416214308199"
     },
     "user_tz": 0
    },
    "id": "XV-0OhVqkKDz",
    "outputId": "5d95d54a-ddaf-4025-b13a-46a0bc3b1655"
   },
   "outputs": [
    {
     "data": {
      "text/plain": [
       "(-1.0, 5.0)"
      ]
     },
     "execution_count": 99,
     "metadata": {},
     "output_type": "execute_result"
    },
    {
     "data": {
      "image/png": "[encoded data removed]",
      "text/plain": [
       "<Figure size 720x432 with 1 Axes>"
      ]
     },
     "metadata": {},
     "output_type": "display_data"
    }
   ],
   "source": [
    "# plot_1_b1 = m.plot(forecast_b1)\n",
    "plot_1_b1 = m.plot(forecast_b1)\n",
    "ax = plot_1_b1.gca()\n",
    "ax.set_title(\"Borough: City of London\", size=20)\n",
    "ax.set_xlabel(\"Date\", size=15)\n",
    "ax.set_ylabel(\"Number of Incidents\", size=15)\n",
    "ax.set_ylim(-1, 5)"
   ]
  },
  {
   "cell_type": "code",
   "execution_count": 89,
   "metadata": {
    "colab": {
     "base_uri": "https://localhost:8080/",
     "height": 873
    },
    "executionInfo": {
     "elapsed": 1386,
     "status": "ok",
     "timestamp": 1637936165917,
     "user": {
      "displayName": "Tapabrata Mukhopadhyay",
      "photoUrl": "https://lh3.googleusercontent.com/a-/AOh14GhZimCq87-wv4zq-6To7Xnn_Iv7epMjArkGSsyu=s64",
      "userId": "10787340416214308199"
     },
     "user_tz": 0
    },
    "id": "b9eCOG47kfwb",
    "outputId": "4e2a7ba3-f06e-491b-dddf-4aabdb4963f9"
   },
   "outputs": [
    {
     "data": {
      "image/png": "[encoded data removed]",
      "text/plain": [
       "<Figure size 648x864 with 4 Axes>"
      ]
     },
     "metadata": {},
     "output_type": "display_data"
    }
   ],
   "source": [
    "plot_2_b1 = m.plot_components(forecast_b1)"
   ]
  },
  {
   "cell_type": "code",
   "execution_count": 64,
   "metadata": {
    "colab": {
     "base_uri": "https://localhost:8080/",
     "height": 423
    },
    "executionInfo": {
     "elapsed": 218,
     "status": "ok",
     "timestamp": 1637935882065,
     "user": {
      "displayName": "Tapabrata Mukhopadhyay",
      "photoUrl": "https://lh3.googleusercontent.com/a-/AOh14GhZimCq87-wv4zq-6To7Xnn_Iv7epMjArkGSsyu=s64",
      "userId": "10787340416214308199"
     },
     "user_tz": 0
    },
    "id": "pZh2rOzNkweh",
    "outputId": "7be7eb91-13ce-4b81-e4a0-e6a95fe9de8a"
   },
   "outputs": [
    {
     "data": {
      "text/html": [
       "<div>\n",
       "<style scoped>\n",
       "    .dataframe tbody tr th:only-of-type {\n",
       "        vertical-align: middle;\n",
       "    }\n",
       "\n",
       "    .dataframe tbody tr th {\n",
       "        vertical-align: top;\n",
       "    }\n",
       "\n",
       "    .dataframe thead th {\n",
       "        text-align: right;\n",
       "    }\n",
       "</style>\n",
       "<table border=\"1\" class=\"dataframe\">\n",
       "  <thead>\n",
       "    <tr style=\"text-align: right;\">\n",
       "      <th></th>\n",
       "      <th>ds</th>\n",
       "      <th>yhat</th>\n",
       "    </tr>\n",
       "  </thead>\n",
       "  <tbody>\n",
       "    <tr>\n",
       "      <th>0</th>\n",
       "      <td>2018-01-10</td>\n",
       "      <td>0.317103</td>\n",
       "    </tr>\n",
       "    <tr>\n",
       "      <th>1</th>\n",
       "      <td>2018-01-11</td>\n",
       "      <td>0.348989</td>\n",
       "    </tr>\n",
       "    <tr>\n",
       "      <th>2</th>\n",
       "      <td>2018-01-12</td>\n",
       "      <td>0.329945</td>\n",
       "    </tr>\n",
       "    <tr>\n",
       "      <th>3</th>\n",
       "      <td>2018-02-10</td>\n",
       "      <td>0.168937</td>\n",
       "    </tr>\n",
       "    <tr>\n",
       "      <th>4</th>\n",
       "      <td>2018-02-11</td>\n",
       "      <td>0.194122</td>\n",
       "    </tr>\n",
       "    <tr>\n",
       "      <th>...</th>\n",
       "      <td>...</td>\n",
       "      <td>...</td>\n",
       "    </tr>\n",
       "    <tr>\n",
       "      <th>1181</th>\n",
       "      <td>2022-03-05</td>\n",
       "      <td>-0.029533</td>\n",
       "    </tr>\n",
       "    <tr>\n",
       "      <th>1182</th>\n",
       "      <td>2022-03-06</td>\n",
       "      <td>-0.001241</td>\n",
       "    </tr>\n",
       "    <tr>\n",
       "      <th>1183</th>\n",
       "      <td>2022-03-07</td>\n",
       "      <td>-0.064688</td>\n",
       "    </tr>\n",
       "    <tr>\n",
       "      <th>1184</th>\n",
       "      <td>2022-03-08</td>\n",
       "      <td>-0.045304</td>\n",
       "    </tr>\n",
       "    <tr>\n",
       "      <th>1185</th>\n",
       "      <td>2022-03-09</td>\n",
       "      <td>-0.012444</td>\n",
       "    </tr>\n",
       "  </tbody>\n",
       "</table>\n",
       "<p>1186 rows × 2 columns</p>\n",
       "</div>"
      ],
      "text/plain": [
       "             ds      yhat\n",
       "0    2018-01-10  0.317103\n",
       "1    2018-01-11  0.348989\n",
       "2    2018-01-12  0.329945\n",
       "3    2018-02-10  0.168937\n",
       "4    2018-02-11  0.194122\n",
       "...         ...       ...\n",
       "1181 2022-03-05 -0.029533\n",
       "1182 2022-03-06 -0.001241\n",
       "1183 2022-03-07 -0.064688\n",
       "1184 2022-03-08 -0.045304\n",
       "1185 2022-03-09 -0.012444\n",
       "\n",
       "[1186 rows x 2 columns]"
      ]
     },
     "execution_count": 64,
     "metadata": {},
     "output_type": "execute_result"
    }
   ],
   "source": []
  },
  {
   "cell_type": "code",
   "execution_count": null,
   "metadata": {
    "id": "_FvEBYLylcJE"
   },
   "outputs": [],
   "source": []
  }
 ],
 "metadata": {
  "colab": {
   "authorship_tag": "ABX9TyN/0UYj19nUHbkdHl5yBxsn",
   "collapsed_sections": [],
   "mount_file_id": "1Z5NPW95Bz27ABAzvcOud6VXMuU5ct8xv",
   "name": "Untitled3.ipynb",
   "provenance": []
  },
  "kernelspec": {
   "display_name": "Python 3",
   "language": "python",
   "name": "python3"
  },
  "language_info": {
   "codemirror_mode": {
    "name": "ipython",
    "version": 3
   },
   "file_extension": ".py",
   "mimetype": "text/x-python",
   "name": "python",
   "nbconvert_exporter": "python",
   "pygments_lexer": "ipython3",
   "version": "3.8.8"
  }
 },
 "nbformat": 4,
 "nbformat_minor": 1
}
